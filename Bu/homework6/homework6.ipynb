{
 "cells": [
  {
   "cell_type": "code",
   "execution_count": 1,
   "id": "71c9ab1e-9999-437b-8a5d-b9c2c4f12b89",
   "metadata": {},
   "outputs": [],
   "source": [
    "import numpy as np"
   ]
  },
  {
   "cell_type": "code",
   "execution_count": 2,
   "id": "884200c6-2972-40b5-a089-47110d4636a2",
   "metadata": {},
   "outputs": [],
   "source": [
    "list = [20, 27, 9, 12, 31, 17, 4, 50, 39, 35]"
   ]
  },
  {
   "cell_type": "code",
   "execution_count": 5,
   "id": "7a18e6ca-79ff-4cd7-afef-9f4c1d51df79",
   "metadata": {},
   "outputs": [],
   "source": [
    "arr=np.array(list)"
   ]
  },
  {
   "cell_type": "code",
   "execution_count": 6,
   "id": "e206ec16-cca9-4c52-9a50-395342c14c2c",
   "metadata": {},
   "outputs": [
    {
     "name": "stdout",
     "output_type": "stream",
     "text": [
      "[ 80 108  36  48 124  68  16 200 156 140]\n"
     ]
    }
   ],
   "source": [
    "print(arr*4)"
   ]
  },
  {
   "cell_type": "code",
   "execution_count": 7,
   "id": "4f4d186b-b053-4ea2-bc48-d852da9cd189",
   "metadata": {},
   "outputs": [
    {
     "name": "stdout",
     "output_type": "stream",
     "text": [
      "24.4\n"
     ]
    }
   ],
   "source": [
    "print(np.mean(arr))"
   ]
  },
  {
   "cell_type": "code",
   "execution_count": 8,
   "id": "7ba04f6e-245b-4a12-a49c-5bfe4b83441a",
   "metadata": {},
   "outputs": [
    {
     "name": "stdout",
     "output_type": "stream",
     "text": [
      "23.5\n"
     ]
    }
   ],
   "source": [
    "print(np.median(arr))"
   ]
  },
  {
   "cell_type": "code",
   "execution_count": 9,
   "id": "c31f41e6-dfa8-488c-b315-23f9a287630a",
   "metadata": {},
   "outputs": [
    {
     "name": "stdout",
     "output_type": "stream",
     "text": [
      "13.828955130450023\n"
     ]
    }
   ],
   "source": [
    "print(np.std(arr))"
   ]
  },
  {
   "cell_type": "code",
   "execution_count": 10,
   "id": "c93f659d-c22a-4972-b5eb-75355f7fa82f",
   "metadata": {},
   "outputs": [
    {
     "data": {
      "text/plain": [
       "np.int64(6)"
      ]
     },
     "execution_count": 10,
     "metadata": {},
     "output_type": "execute_result"
    }
   ],
   "source": [
    "np.argmin(arr)"
   ]
  },
  {
   "cell_type": "code",
   "execution_count": 11,
   "id": "b6873e3c-c2e6-410f-ad1c-4c0b70056d17",
   "metadata": {},
   "outputs": [
    {
     "data": {
      "text/plain": [
       "np.int64(7)"
      ]
     },
     "execution_count": 11,
     "metadata": {},
     "output_type": "execute_result"
    }
   ],
   "source": [
    "np.argmax(arr)"
   ]
  },
  {
   "cell_type": "code",
   "execution_count": 12,
   "id": "3c7f5c09-39d2-4397-9091-f31720580217",
   "metadata": {},
   "outputs": [
    {
     "name": "stdout",
     "output_type": "stream",
     "text": [
      "7\n"
     ]
    }
   ],
   "source": [
    "print(np.argmax(arr))"
   ]
  },
  {
   "cell_type": "code",
   "execution_count": 13,
   "id": "323c72ba-45ac-4ee9-86ec-884c00c2974e",
   "metadata": {},
   "outputs": [
    {
     "name": "stdout",
     "output_type": "stream",
     "text": [
      "50\n"
     ]
    }
   ],
   "source": [
    "print(arr[np.argmax(arr)])"
   ]
  },
  {
   "cell_type": "code",
   "execution_count": 14,
   "id": "3afeb849-94c5-40b2-99b9-309949f328e6",
   "metadata": {},
   "outputs": [
    {
     "name": "stdout",
     "output_type": "stream",
     "text": [
      "4\n"
     ]
    }
   ],
   "source": [
    "print(arr[np.argmin(arr)])"
   ]
  },
  {
   "cell_type": "code",
   "execution_count": 15,
   "id": "861d505d-b10e-45ec-bc03-289ca0f069c3",
   "metadata": {},
   "outputs": [
    {
     "name": "stdout",
     "output_type": "stream",
     "text": [
      "4\n"
     ]
    }
   ],
   "source": [
    "print(np.min(arr))"
   ]
  },
  {
   "cell_type": "code",
   "execution_count": 16,
   "id": "03eb2c8c-ffdd-4365-ac89-2cff4d9485a3",
   "metadata": {},
   "outputs": [
    {
     "name": "stdout",
     "output_type": "stream",
     "text": [
      "50\n"
     ]
    }
   ],
   "source": [
    "print(np.max(arr))"
   ]
  },
  {
   "cell_type": "code",
   "execution_count": 17,
   "id": "c204211a-398d-4e27-b1b3-bb5730606a0b",
   "metadata": {},
   "outputs": [
    {
     "name": "stdout",
     "output_type": "stream",
     "text": [
      "[27 31 50 39 35]\n"
     ]
    }
   ],
   "source": [
    "greater=arr[arr>20]\n",
    "print(greater)"
   ]
  },
  {
   "cell_type": "code",
   "execution_count": 18,
   "id": "c4a1a2ba-a87f-4bd7-b422-3e8801fefcc9",
   "metadata": {},
   "outputs": [],
   "source": [
    "matrix = [\n",
    "    [5, 12, 17, 9],\n",
    "    [8, 21, 14, 3],\n",
    "    [6, 13, 19, 11]\n",
    "]\n",
    "arr = np.array(matrix)"
   ]
  },
  {
   "cell_type": "code",
   "execution_count": 19,
   "id": "abf089ad-3283-41f0-a332-10625ac3a66b",
   "metadata": {},
   "outputs": [
    {
     "name": "stdout",
     "output_type": "stream",
     "text": [
      "(3, 4)\n"
     ]
    }
   ],
   "source": [
    "print(arr.shape)"
   ]
  },
  {
   "cell_type": "code",
   "execution_count": 20,
   "id": "0dd50806-b608-4182-b714-656074e0c920",
   "metadata": {},
   "outputs": [
    {
     "name": "stdout",
     "output_type": "stream",
     "text": [
      "[17 14 19]\n"
     ]
    }
   ],
   "source": [
    "print(arr[:, 2])"
   ]
  },
  {
   "cell_type": "code",
   "execution_count": 22,
   "id": "9d303e70-7594-426d-a90b-b6e79adcb643",
   "metadata": {},
   "outputs": [
    {
     "name": "stdout",
     "output_type": "stream",
     "text": [
      "[ 8 21 14  3]\n"
     ]
    }
   ],
   "source": [
    "print(arr[1, :])"
   ]
  },
  {
   "cell_type": "code",
   "execution_count": 23,
   "id": "8880169d-07ef-42a6-b550-bcdaa85d0284",
   "metadata": {},
   "outputs": [
    {
     "name": "stdout",
     "output_type": "stream",
     "text": [
      "[[10 24 34 18]\n",
      " [16 42 28  6]\n",
      " [12 26 38 22]]\n"
     ]
    }
   ],
   "source": [
    "print(arr*2)"
   ]
  },
  {
   "cell_type": "code",
   "execution_count": 24,
   "id": "8a34e9ba-e857-4689-b9cf-ff097df58fe4",
   "metadata": {},
   "outputs": [
    {
     "name": "stdout",
     "output_type": "stream",
     "text": [
      "[ 6.33333333 15.33333333 16.66666667  7.66666667]\n"
     ]
    }
   ],
   "source": [
    "column_means = np.mean(arr, axis=0)\n",
    "print(column_means)"
   ]
  },
  {
   "cell_type": "code",
   "execution_count": 25,
   "id": "c19867c3-dae4-4ed8-a156-2c44b3455c29",
   "metadata": {},
   "outputs": [
    {
     "name": "stdout",
     "output_type": "stream",
     "text": [
      "11.5\n"
     ]
    }
   ],
   "source": [
    "print(np.mean(arr))"
   ]
  },
  {
   "cell_type": "code",
   "execution_count": 26,
   "id": "91246f04-ef76-49f1-a04a-1ab36060f144",
   "metadata": {},
   "outputs": [
    {
     "name": "stdout",
     "output_type": "stream",
     "text": [
      "[17 21 19]\n",
      "[ 5 12 14  3]\n"
     ]
    }
   ],
   "source": [
    "max = np.max(arr, axis=1)\n",
    "min = np.min(arr, axis=0)\n",
    "print(max)\n",
    "print(min)"
   ]
  },
  {
   "cell_type": "code",
   "execution_count": 27,
   "id": "601b5358-90af-47ee-885e-ab711e4b4a19",
   "metadata": {},
   "outputs": [],
   "source": [
    "flattened = arr.flatten()"
   ]
  },
  {
   "cell_type": "code",
   "execution_count": 28,
   "id": "433c20bb-44a5-4d7e-9ae5-658bb0e01795",
   "metadata": {},
   "outputs": [
    {
     "name": "stdout",
     "output_type": "stream",
     "text": [
      "[ 5 12 17  9  8 21 14  3  6 13 19 11]\n",
      "(12,)\n"
     ]
    }
   ],
   "source": [
    "print(flattened)\n",
    "print(flattened.shape)"
   ]
  },
  {
   "cell_type": "code",
   "execution_count": 29,
   "id": "1dd0126d-f9f5-4113-93d2-feaf77ec6fa0",
   "metadata": {},
   "outputs": [
    {
     "name": "stdout",
     "output_type": "stream",
     "text": [
      "7\n",
      "5\n"
     ]
    }
   ],
   "source": [
    "min = np.argmin(flattened)\n",
    "max = np.argmax(flattened)\n",
    "print(min)\n",
    "print(max)"
   ]
  },
  {
   "cell_type": "code",
   "execution_count": 30,
   "id": "08ed0a3b-45b5-4e5d-ae01-2c9fbf41d036",
   "metadata": {},
   "outputs": [
    {
     "name": "stdout",
     "output_type": "stream",
     "text": [
      "(np.int64(1), np.int64(3))\n",
      "(np.int64(1), np.int64(1))\n"
     ]
    }
   ],
   "source": [
    "min1 = np.unravel_index(min, arr.shape)\n",
    "max1 = np.unravel_index(max, arr.shape)\n",
    "print(min1)\n",
    "print(max1)"
   ]
  },
  {
   "cell_type": "code",
   "execution_count": 31,
   "id": "d96156a1-a25d-41f6-a155-2d0bcdcd036d",
   "metadata": {},
   "outputs": [
    {
     "name": "stdout",
     "output_type": "stream",
     "text": [
      "[17 21 19]\n"
     ]
    }
   ],
   "source": [
    "print(arr[arr > 15])"
   ]
  },
  {
   "cell_type": "code",
   "execution_count": 32,
   "id": "03431ce6-92e3-4510-8a05-1ecf133ef284",
   "metadata": {},
   "outputs": [
    {
     "name": "stdout",
     "output_type": "stream",
     "text": [
      "[[ 5  9 12 17]\n",
      " [ 3  8 14 21]\n",
      " [ 6 11 13 19]]\n"
     ]
    }
   ],
   "source": [
    "print(np.sort(arr, axis=1))"
   ]
  },
  {
   "cell_type": "code",
   "execution_count": 33,
   "id": "558fffd0-2053-4b2b-981d-8b502488c81e",
   "metadata": {},
   "outputs": [],
   "source": [
    "def is_prime(n):\n",
    "    if n < 2:\n",
    "        return False\n",
    "    for i in range(2, int(np.sqrt(n)) + 1):\n",
    "        if n % i == 0:\n",
    "            return False\n",
    "    return True"
   ]
  },
  {
   "cell_type": "code",
   "execution_count": 38,
   "id": "eaca5c99-a373-41b4-8e74-20e020ca53e4",
   "metadata": {},
   "outputs": [],
   "source": [
    "def get_rows_with_primes(arr):\n",
    "    result_rows = []\n",
    "    \n",
    "    for i in range(arr.shape[0]):\n",
    "        row = False\n",
    "        for j in range(arr.shape[1]):\n",
    "            if is_prime(arr[i, j]):\n",
    "                row = True\n",
    "                break\n",
    "        if row:\n",
    "            result_rows.append(arr[i])\n",
    "    return np.array(result_rows)"
   ]
  },
  {
   "cell_type": "code",
   "execution_count": 39,
   "id": "88bd12fe-14ce-4d70-b82d-dc71245a71fd",
   "metadata": {},
   "outputs": [],
   "source": [
    "arr = np.array([\n",
    "    [2, 3, 5],\n",
    "    [14, 6, 8],\n",
    "    [11, 13, 17],\n",
    "    [7, 10, 13]\n",
    "])"
   ]
  },
  {
   "cell_type": "code",
   "execution_count": 40,
   "id": "3ec4c7be-3507-4a83-a007-5e2476806309",
   "metadata": {},
   "outputs": [
    {
     "name": "stdout",
     "output_type": "stream",
     "text": [
      "[[ 2  3  5]\n",
      " [11 13 17]\n",
      " [ 7 10 13]]\n"
     ]
    }
   ],
   "source": [
    "print(get_rows_with_primes(arr))"
   ]
  },
  {
   "cell_type": "code",
   "execution_count": 46,
   "id": "eb8710fc-cf53-4f39-b9d6-d822e89685d3",
   "metadata": {},
   "outputs": [],
   "source": [
    "def checkerboard():\n",
    "    board = np.zeros((8, 8), dtype=int)\n",
    "    for i in range(8):\n",
    "        for j in range(8):\n",
    "            if i % 2 == 0:\n",
    "                if j % 2 == 0:\n",
    "                    board[i, j] = 1\n",
    "            else: \n",
    "                if j % 2 == 1:\n",
    "                    board[i, j] = 1\n",
    "    return board"
   ]
  },
  {
   "cell_type": "code",
   "execution_count": 47,
   "id": "940c20fa-e3dd-465d-bbad-a30bfc46c479",
   "metadata": {},
   "outputs": [],
   "source": [
    "def reverse():\n",
    "    board = np.zeros((8, 8), dtype=int)\n",
    "    \n",
    "    for i in range(8):\n",
    "        for j in range(8):\n",
    "            if i % 2 == 0:\n",
    "                if j % 2 == 1:\n",
    "                    board[i, j] = 1\n",
    "            else:\n",
    "                if j % 2 == 0:\n",
    "                    board[i, j] = 1\n",
    "    return board"
   ]
  },
  {
   "cell_type": "code",
   "execution_count": 48,
   "id": "747fa17e-4f01-4fce-8803-c1fc2af46ee4",
   "metadata": {},
   "outputs": [],
   "source": [
    "def expansion(strings, spaces):\n",
    "    result = []\n",
    "    space = ' ' * spaces\n",
    "    \n",
    "    for s in strings:\n",
    "        expanded = space.join(s)\n",
    "        result.append(expanded)\n",
    "    \n",
    "    return np.array(result)"
   ]
  },
  {
   "cell_type": "code",
   "execution_count": null,
   "id": "f729b342-83e9-4f39-9ede-df7ded97895c",
   "metadata": {},
   "outputs": [],
   "source": []
  }
 ],
 "metadata": {
  "kernelspec": {
   "display_name": "Python [conda env:base] *",
   "language": "python",
   "name": "conda-base-py"
  },
  "language_info": {
   "codemirror_mode": {
    "name": "ipython",
    "version": 3
   },
   "file_extension": ".py",
   "mimetype": "text/x-python",
   "name": "python",
   "nbconvert_exporter": "python",
   "pygments_lexer": "ipython3",
   "version": "3.13.5"
  }
 },
 "nbformat": 4,
 "nbformat_minor": 5
}

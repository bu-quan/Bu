import numpy as np


list = [20, 27, 9, 12, 31, 17, 4, 50, 39, 35]


arr=np.array(list)


print(arr*4)


print(np.mean(arr))


print(np.median(arr))


print(np.std(arr))


np.argmin(arr)


np.argmax(arr)


print(np.argmax(arr))


print(arr[np.argmax(arr)])


print(arr[np.argmin(arr)])


print(np.min(arr))


print(np.max(arr))


greater=arr[arr>20]
print(greater)


matrix = [
    [5, 12, 17, 9],
    [8, 21, 14, 3],
    [6, 13, 19, 11]
]
arr = np.array(matrix)


print(arr.shape)


print(arr[:, 2])


print(arr[1, :])


print(arr*2)


column_means = np.mean(arr, axis=0)
print(column_means)


print(np.mean(arr))


max = np.max(arr, axis=1)
min = np.min(arr, axis=0)
print(max)
print(min)


flattened = arr.flatten()


print(flattened)
print(flattened.shape)


min = np.argmin(flattened)
max = np.argmax(flattened)
print(min)
print(max)


min1 = np.unravel_index(min, arr.shape)
max1 = np.unravel_index(max, arr.shape)
print(min1)
print(max1)


print(arr[arr > 15])


print(np.sort(arr, axis=1))


def is_prime(n):
    if n < 2:
        return False
    for i in range(2, int(np.sqrt(n)) + 1):
        if n % i == 0:
            return False
    return True


def get_rows_with_primes(arr):
    result_rows = []
    
    for i in range(arr.shape[0]):
        row = False
        for j in range(arr.shape[1]):
            if is_prime(arr[i, j]):
                row = True
                break
        if row:
            result_rows.append(arr[i])
    return np.array(result_rows)


arr = np.array([
    [2, 3, 5],
    [14, 6, 8],
    [11, 13, 17],
    [7, 10, 13]
])


print(get_rows_with_primes(arr))


def checkerboard():
    board = np.zeros((8, 8), dtype=int)
    for i in range(8):
        for j in range(8):
            if i % 2 == 0:
                if j % 2 == 0:
                    board[i, j] = 1
            else: 
                if j % 2 == 1:
                    board[i, j] = 1
    return board


def reverse():
    board = np.zeros((8, 8), dtype=int)
    
    for i in range(8):
        for j in range(8):
            if i % 2 == 0:
                if j % 2 == 1:
                    board[i, j] = 1
            else:
                if j % 2 == 0:
                    board[i, j] = 1
    return board


def expansion(strings, spaces):
    result = []
    space = ' ' * spaces
    
    for s in strings:
        expanded = space.join(s)
        result.append(expanded)
    
    return np.array(result)



